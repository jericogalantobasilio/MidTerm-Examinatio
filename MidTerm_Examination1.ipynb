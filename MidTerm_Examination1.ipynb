{
  "nbformat": 4,
  "nbformat_minor": 0,
  "metadata": {
    "colab": {
      "name": "MidTerm Examination1",
      "provenance": [],
      "collapsed_sections": []
    },
    "kernelspec": {
      "name": "python3",
      "display_name": "Python 3"
    },
    "language_info": {
      "name": "python"
    }
  },
  "cells": [
    {
      "cell_type": "code",
      "execution_count": 31,
      "metadata": {
        "colab": {
          "base_uri": "https://localhost:8080/"
        },
        "id": "xPtGMGUA5qLx",
        "outputId": "d7ef6d43-240b-43b2-8a15-6e1dc9c4a30c"
      },
      "outputs": [
        {
          "output_type": "stream",
          "name": "stdout",
          "text": [
            "['batman', 'superman', 'spiderman']\n",
            "batman\n",
            "wonderwoman\n",
            "['superman', 'spiderman', 'wonderwoman']\n"
          ]
        }
      ],
      "source": [
        "heroes = ['batman', 'superman', 'spiderman']\n",
        "print(heroes)\n",
        "heroes.index('batman')\n",
        "print(heroes[0])\n",
        "heroes.append('wonderwoman')\n",
        "heroes.remove('batman')\n",
        "print(heroes[2])\n",
        "heroes.index('superman')\n",
        "print(heroes)"
      ]
    },
    {
      "cell_type": "code",
      "source": [
        "heroes = ['Batman', 'Superman', 'Spiderman']\n",
        "print('Batman' in heroes)\n",
        "print('Ironman' not in heroes)\n",
        "hero = 'Superman'\n",
        "print(hero in heroes)\n",
        "print('Ironman' not in ['Captain America', 'Ironman', 'Hulk'])\n"
      ],
      "metadata": {
        "colab": {
          "base_uri": "https://localhost:8080/"
        },
        "id": "Yq82-ffYK0V7",
        "outputId": "501418cf-3ca6-4a7a-96c7-734c4d047988"
      },
      "execution_count": 25,
      "outputs": [
        {
          "output_type": "stream",
          "name": "stdout",
          "text": [
            "True\n",
            "True\n",
            "True\n",
            "False\n"
          ]
        }
      ]
    },
    {
      "cell_type": "code",
      "source": [
        "heroes1 = ['Batman', 'Superman', 'Spiderman']\n",
        "heroes2 = ['Captain America', 'Ironman', 'Hulk']\n",
        "print(heroes1 + heroes2)\n",
        "heroes = heroes1 + heroes2\n",
        "heroes2.remove('Hulk')\n",
        "print(heroes2)"
      ],
      "metadata": {
        "colab": {
          "base_uri": "https://localhost:8080/"
        },
        "id": "PjnlS288LkmD",
        "outputId": "2851b369-b457-4339-ece6-5517de6b887b"
      },
      "execution_count": 26,
      "outputs": [
        {
          "output_type": "stream",
          "name": "stdout",
          "text": [
            "['Batman', 'Superman', 'Spiderman', 'Captain America', 'Ironman', 'Hulk']\n",
            "['Captain America', 'Ironman']\n"
          ]
        }
      ]
    },
    {
      "cell_type": "code",
      "source": [
        "heroes = ['Batman', 'Superman', 'Captain America', 'Ironman', 'Hulk']\n",
        "heroes.sort()\n",
        "print(heroes)"
      ],
      "metadata": {
        "colab": {
          "base_uri": "https://localhost:8080/"
        },
        "id": "Nd0_LuN_MRyI",
        "outputId": "6934c365-d3bb-4d08-f519-18744696e97b"
      },
      "execution_count": 27,
      "outputs": [
        {
          "output_type": "stream",
          "name": "stdout",
          "text": [
            "['Batman', 'Captain America', 'Hulk', 'Ironman', 'Superman']\n"
          ]
        }
      ]
    },
    {
      "cell_type": "code",
      "source": [
        "heroes = ['Batman', 'Superman', 'Captain America', 'Ironman', 'Hulk']\n",
        "heroes.reverse()\n",
        "print(heroes)"
      ],
      "metadata": {
        "colab": {
          "base_uri": "https://localhost:8080/"
        },
        "id": "aXn0UgRVMy1q",
        "outputId": "1829c376-e4ec-4295-f8e9-d48650b2b9ad"
      },
      "execution_count": 28,
      "outputs": [
        {
          "output_type": "stream",
          "name": "stdout",
          "text": [
            "['Hulk', 'Ironman', 'Captain America', 'Superman', 'Batman']\n"
          ]
        }
      ]
    },
    {
      "cell_type": "code",
      "source": [
        "heroes = ['Batman', 'Superman', 'Captain America', 'Ironman', 'Hulk']\n",
        "print(sorted(heroes))\n",
        "print(list(reversed(heroes)))"
      ],
      "metadata": {
        "colab": {
          "base_uri": "https://localhost:8080/"
        },
        "id": "uuQVSMzpNAiI",
        "outputId": "9a70c567-63e0-4d56-ad65-1453302338ae"
      },
      "execution_count": 30,
      "outputs": [
        {
          "output_type": "stream",
          "name": "stdout",
          "text": [
            "['Batman', 'Captain America', 'Hulk', 'Ironman', 'Superman']\n",
            "['Hulk', 'Ironman', 'Captain America', 'Superman', 'Batman']\n"
          ]
        }
      ]
    },
    {
      "cell_type": "code",
      "source": [
        "heroes = ['Batman', 'Superman', 'Captain America', 'Ironman', 'Hulk']\n",
        "for hero in heroes:\n",
        "  print(\"my hero is {}\".format(hero))"
      ],
      "metadata": {
        "colab": {
          "base_uri": "https://localhost:8080/"
        },
        "id": "p0oQ2VI-NSb_",
        "outputId": "51f91716-76b8-4828-d1a9-eaefdff05370"
      },
      "execution_count": 3,
      "outputs": [
        {
          "output_type": "stream",
          "name": "stdout",
          "text": [
            "my hero is Batman\n",
            "my hero is Superman\n",
            "my hero is Captain America\n",
            "my hero is Ironman\n",
            "my hero is Hulk\n"
          ]
        }
      ]
    },
    {
      "cell_type": "code",
      "source": [
        "heroes = ['Batman', 'Superman', 'Captain America', 'Ironman', 'Hulk']\n",
        "for hero in heroes:\n",
        "  print(f\"my hero is {hero}\")"
      ],
      "metadata": {
        "colab": {
          "base_uri": "https://localhost:8080/"
        },
        "id": "9B1KQqeKN_Uf",
        "outputId": "d4430c14-a5a9-4fd4-a4ec-29ea46fbbc3d"
      },
      "execution_count": 5,
      "outputs": [
        {
          "output_type": "stream",
          "name": "stdout",
          "text": [
            "my hero is Batman\n",
            "my hero is Superman\n",
            "my hero is Captain America\n",
            "my hero is Ironman\n",
            "my hero is Hulk\n"
          ]
        }
      ]
    },
    {
      "cell_type": "code",
      "source": [
        "numbers = [1,2,3,4,5,6]\n",
        "total = 0\n",
        "for number in numbers:\n",
        "  total = total + number\n",
        "  print(total)"
      ],
      "metadata": {
        "colab": {
          "base_uri": "https://localhost:8080/"
        },
        "id": "NtZ3B-4NOP9o",
        "outputId": "5df23479-0bb7-4ec4-d2c8-7293dadbf2c3"
      },
      "execution_count": 11,
      "outputs": [
        {
          "output_type": "stream",
          "name": "stdout",
          "text": [
            "1\n",
            "3\n",
            "6\n",
            "10\n",
            "15\n",
            "21\n"
          ]
        }
      ]
    },
    {
      "cell_type": "code",
      "source": [
        "numbers = [1,2,3,4,5,6,]\n",
        "total = sum(numbers)\n",
        "print(total)"
      ],
      "metadata": {
        "colab": {
          "base_uri": "https://localhost:8080/"
        },
        "id": "C4k3mhu_POCf",
        "outputId": "8bd11ecd-8069-411b-8302-25e05f43e2e0"
      },
      "execution_count": 13,
      "outputs": [
        {
          "output_type": "stream",
          "name": "stdout",
          "text": [
            "21\n"
          ]
        }
      ]
    },
    {
      "cell_type": "code",
      "source": [
        "age = input('enter your age')\n",
        "age = int(age)\n",
        "if age >=100:\n",
        "       print('that is not valid age')\n",
        "elif age >=18:\n",
        "         print('you are old enough to drive')\n",
        "elif age <=0:\n",
        "         print('that is not valid age')\n",
        "else:\n",
        "         print('you are not old enough to drive')"
      ],
      "metadata": {
        "colab": {
          "base_uri": "https://localhost:8080/"
        },
        "id": "_5H9d4HdP2fS",
        "outputId": "382f9599-e0b9-4964-c61e-90e6f33b5d3b"
      },
      "execution_count": 19,
      "outputs": [
        {
          "output_type": "stream",
          "name": "stdout",
          "text": [
            "enter your age18\n",
            "you are old enough to drive\n"
          ]
        }
      ]
    },
    {
      "cell_type": "code",
      "source": [
        "age = input('enter your age')\n",
        "age = int(age)\n",
        "if age >=100:\n",
        "       print('that is not valid age')\n",
        "elif age >=18:\n",
        "         print('you are old enough to drive')\n",
        "elif age <=0:\n",
        "         print('that is not valid age')\n",
        "else:\n",
        "         print('you are not old enough to drive')"
      ],
      "metadata": {
        "colab": {
          "base_uri": "https://localhost:8080/"
        },
        "id": "-8tImJZUSPUq",
        "outputId": "de75358d-42af-44a2-95a5-a058c61e04e1"
      },
      "execution_count": 20,
      "outputs": [
        {
          "output_type": "stream",
          "name": "stdout",
          "text": [
            "enter your age10\n",
            "you are not old enough to drive\n"
          ]
        }
      ]
    },
    {
      "cell_type": "code",
      "source": [
        "numbers = [200, 43, 10, -10, 0]\n",
        "for number in numbers:\n",
        "  if number> 100:\n",
        "    print(f\"{number} is greater than 100\")"
      ],
      "metadata": {
        "colab": {
          "base_uri": "https://localhost:8080/"
        },
        "id": "j14oOKPwSdHj",
        "outputId": "d7e9d004-c309-4dfb-af9f-5179cc5c216b"
      },
      "execution_count": 21,
      "outputs": [
        {
          "output_type": "stream",
          "name": "stdout",
          "text": [
            "200 is greater than 100\n"
          ]
        }
      ]
    },
    {
      "cell_type": "code",
      "source": [
        "numbers = [200, 43, 10, -10, 0]\n",
        "for number in numbers:\n",
        "  if number> 100:\n",
        "    print(f\"{number} is greater than 100\")\n",
        "  elif number <100:\n",
        "      print(f\"{number} is lessthan 100\")"
      ],
      "metadata": {
        "colab": {
          "base_uri": "https://localhost:8080/"
        },
        "id": "xLNLlPSPS5ND",
        "outputId": "6f2473dd-fba6-4814-e61d-d7f9949cf54f"
      },
      "execution_count": 23,
      "outputs": [
        {
          "output_type": "stream",
          "name": "stdout",
          "text": [
            "200 is greater than 100\n",
            "43 is lessthan 100\n",
            "10 is lessthan 100\n",
            "-10 is lessthan 100\n",
            "0 is lessthan 100\n"
          ]
        }
      ]
    },
    {
      "cell_type": "code",
      "source": [
        "numbers =[200, 100, 43, 10, -10, 0]\n",
        "filtered = []\n",
        "\n",
        "for number in numbers:\n",
        "  if number >30:\n",
        "    filtered.append(number)\n",
        "print(filtered)    "
      ],
      "metadata": {
        "colab": {
          "base_uri": "https://localhost:8080/"
        },
        "id": "_QQuWNZUTUP8",
        "outputId": "1c13b603-8997-4f48-89c6-4f6b9df31372"
      },
      "execution_count": 24,
      "outputs": [
        {
          "output_type": "stream",
          "name": "stdout",
          "text": [
            "[200, 100, 43]\n"
          ]
        }
      ]
    }
  ]
}