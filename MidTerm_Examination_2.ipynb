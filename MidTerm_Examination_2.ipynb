{
  "nbformat": 4,
  "nbformat_minor": 0,
  "metadata": {
    "colab": {
      "name": "MidTerm Examination 2",
      "provenance": []
    },
    "kernelspec": {
      "name": "python3",
      "display_name": "Python 3"
    },
    "language_info": {
      "name": "python"
    }
  },
  "cells": [
    {
      "cell_type": "code",
      "execution_count": 4,
      "metadata": {
        "colab": {
          "base_uri": "https://localhost:8080/"
        },
        "id": "Dn5dwoRlPt5L",
        "outputId": "bbac9748-021a-4429-cd23-73457192f695"
      },
      "outputs": [
        {
          "output_type": "stream",
          "name": "stdout",
          "text": [
            "1 is odd\n",
            "2 is even\n",
            "3 is odd\n",
            "4 is even\n",
            "5 is odd\n",
            "6 is even\n"
          ]
        }
      ],
      "source": [
        "numbers = [1,2,3,4,5,6]\n",
        "\n",
        "for number in numbers:\n",
        "    if(number%2) == 0:\n",
        "        print(f\"{number} is even\")\n",
        "    else:\n",
        "        print(f\"{number} is odd\")"
      ]
    },
    {
      "cell_type": "code",
      "source": [
        "numbers = [1,2,3,4,5,6]\n",
        "evens = []\n",
        "odd = []\n",
        "\n",
        "for number in numbers:\n",
        "  if (number%2) == 0:\n",
        "    evens.append(number)\n",
        "\n",
        "for number in numbers:\n",
        "   if (number%2) != 0:\n",
        "     odd.append(number)  \n",
        "\n",
        "print(evens)\n",
        "print(odd)     "
      ],
      "metadata": {
        "colab": {
          "base_uri": "https://localhost:8080/"
        },
        "id": "OWttTllFQ0z0",
        "outputId": "d927a5a3-71ba-40c9-c896-a0f7be1ca524"
      },
      "execution_count": 11,
      "outputs": [
        {
          "output_type": "stream",
          "name": "stdout",
          "text": [
            "[2, 4, 6]\n",
            "[1, 3, 5]\n"
          ]
        }
      ]
    },
    {
      "cell_type": "code",
      "source": [
        "numbers = [1,2,3,4,5,6]\n",
        "doubles = []\n",
        "\n",
        "for number in numbers:\n",
        "  number *= 2\n",
        "  doubles.append(number)\n",
        "\n",
        "print(doubles)\n",
        "#they all numbers are multiples by 2"
      ],
      "metadata": {
        "colab": {
          "base_uri": "https://localhost:8080/"
        },
        "id": "BBxOOu1aSFDb",
        "outputId": "dc8ad103-f67c-44c6-9fbd-e8b4ce6224b9"
      },
      "execution_count": 18,
      "outputs": [
        {
          "output_type": "stream",
          "name": "stdout",
          "text": [
            "[2, 4, 6, 8, 10, 12]\n"
          ]
        }
      ]
    },
    {
      "cell_type": "code",
      "source": [
        "numbers = [1,2,3,4,5,6]\n",
        "doubles = [number * 2 for number in numbers]\n",
        "print(doubles)\n",
        "#multiples all by two\n"
      ],
      "metadata": {
        "colab": {
          "base_uri": "https://localhost:8080/"
        },
        "id": "Ygkku4HjTbH7",
        "outputId": "428a3886-1d82-48f7-af27-7c6405b89393"
      },
      "execution_count": 17,
      "outputs": [
        {
          "output_type": "stream",
          "name": "stdout",
          "text": [
            "[2, 4, 6, 8, 10, 12]\n"
          ]
        }
      ]
    },
    {
      "cell_type": "code",
      "source": [
        "name_length = []\n",
        "names = [\"alice\", \"bob\", \"carol\"]\n",
        "name_length = [len(name) for name in names]\n",
        "    \n",
        "print(name_length)"
      ],
      "metadata": {
        "colab": {
          "base_uri": "https://localhost:8080/"
        },
        "id": "Il4D-YhoR5yM",
        "outputId": "f8da8038-0aae-426c-b21e-f3f9bd62a235"
      },
      "execution_count": 23,
      "outputs": [
        {
          "output_type": "stream",
          "name": "stdout",
          "text": [
            "[5, 3, 5]\n"
          ]
        }
      ]
    },
    {
      "cell_type": "code",
      "source": [
        "record = [\"alice\", 5]\n",
        "\n",
        "name, length = record\n",
        "\n",
        "print(f\"{name} have a length of {length}\")\n",
        "#also determine the Length in the record"
      ],
      "metadata": {
        "colab": {
          "base_uri": "https://localhost:8080/"
        },
        "id": "6f5BPf-BVgC5",
        "outputId": "72003d59-4bce-4df8-f5af-7e9cc7f3612d"
      },
      "execution_count": 25,
      "outputs": [
        {
          "output_type": "stream",
          "name": "stdout",
          "text": [
            "alice have a length of 5\n"
          ]
        }
      ]
    },
    {
      "cell_type": "code",
      "source": [
        "records = [ [\"alice\", 5],[\"bob\", 3], [\"carlo\", 5] ]\n",
        "for name,length in records:\n",
        "    print(f\"{name} have a length of {length}\")"
      ],
      "metadata": {
        "colab": {
          "base_uri": "https://localhost:8080/"
        },
        "id": "UWARF_rMWm9F",
        "outputId": "6f0b4a27-6846-40f3-b863-97c84813c336"
      },
      "execution_count": 38,
      "outputs": [
        {
          "output_type": "stream",
          "name": "stdout",
          "text": [
            "alice have a length of 5\n",
            "bob have a length of 3\n",
            "carlo have a length of 5\n"
          ]
        }
      ]
    },
    {
      "cell_type": "code",
      "source": [
        "names = [\"alice\", \"bob\", \"carlo\"]\n",
        "name_length = [5, 3, 5]\n",
        "\n",
        "for name, length in zip(name, name_length):\n",
        "    print(f\"{name} have a length of {length}\")\n",
        "\n",
        "print(zip(name, name_length))\n",
        "print(list(zip(name, name_length))) "
      ],
      "metadata": {
        "colab": {
          "base_uri": "https://localhost:8080/"
        },
        "id": "eorJDTN1WndN",
        "outputId": "8a1c790f-c0dc-46d8-e3ba-eb4024f803b9"
      },
      "execution_count": 46,
      "outputs": [
        {
          "output_type": "stream",
          "name": "stdout",
          "text": [
            "r have a length of 5\n",
            "<zip object at 0x7f17baaa83c0>\n",
            "[('r', 5)]\n"
          ]
        }
      ]
    },
    {
      "cell_type": "code",
      "source": [
        "names = [\"alice\", \"bob\", \"carlo\", \"marvin\"]\n",
        "name_length = [5,3,5]\n",
        "genders = [\"female\", \"male\", \"female\"]\n",
        "ages = [15, 22, 34]\n",
        "filtered = []\n",
        "\n",
        "for name, length, gender, age in zip(names, name_length, genders, ages):\n",
        "    print(f\"{name} have a length of {length}. they are {gender}. Ages are {age}\")"
      ],
      "metadata": {
        "colab": {
          "base_uri": "https://localhost:8080/"
        },
        "id": "au3lmPkBWnrr",
        "outputId": "e798a568-b3e0-4144-e29a-8c9f9e2b31ab"
      },
      "execution_count": 52,
      "outputs": [
        {
          "output_type": "stream",
          "name": "stdout",
          "text": [
            "alice have a length of 5. they are female. Ages are 15\n",
            "bob have a length of 3. they are male. Ages are 22\n",
            "carlo have a length of 5. they are female. Ages are 34\n"
          ]
        }
      ]
    }
  ]
}